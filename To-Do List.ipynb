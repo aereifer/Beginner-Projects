{
 "cells": [
  {
   "cell_type": "code",
   "execution_count": null,
   "id": "c3a7810a-bcb0-4670-ad97-0661de1d4969",
   "metadata": {},
   "outputs": [],
   "source": [
    "#Create a To-Do List that allows the user to:\n",
    "#   1) Add a task\n",
    "#   2) View tasks\n",
    "#   3) Mark a task as complete\n",
    "#   4) Remove a task"
   ]
  },
  {
   "cell_type": "code",
   "execution_count": 53,
   "id": "bc88fb51-899e-4533-b79e-1735b29d771c",
   "metadata": {},
   "outputs": [],
   "source": [
    "#METHODS\n",
    "\n",
    "def print_bar():\n",
    "    print(\"----------------------------\")\n",
    "\n",
    "\n",
    "def choice_validation(choice, choices_list):\n",
    "    while choice not in range(0,6):\n",
    "        if choice.isdigit():\n",
    "            choice = int(choice)\n",
    "\n",
    "            if choice in range(0,6):\n",
    "                continue\n",
    "            else:\n",
    "                print(\"The number you entered is out of range.\")\n",
    "        else:\n",
    "            print(\"Invalid response. Please enter a number. (0-5)\")\n",
    "\n",
    "        print_bar()\n",
    "        for item in choices_list:\n",
    "            print(item)\n",
    "        print_bar()\n",
    "    \n",
    "        choice = input(\"What would you like to do? (1-5)\")\n",
    "\n",
    "    return choice\n",
    "        \n",
    "        \n",
    "def task_add(task_numbers, task_descriptions, task_list):\n",
    "    task_descriptions.append(input(\"What is your task?\"))\n",
    "\n",
    "    task_numbers.append(len(task_descriptions))\n",
    "\n",
    "    task_list.append(str(task_numbers[-1]) + \") \" + task_descriptions[-1])\n",
    "\n",
    "    return(task_numbers, task_descriptions, task_list)\n",
    "\n",
    "\n",
    "def print_list(task_list):\n",
    "    print(\"==================\")\n",
    "    print(\"    TO-DO LIST    \")\n",
    "    print(\"==================\")\n",
    "\n",
    "    for task in task_list:\n",
    "        print(task)\n",
    "    print(\"\\n\")\n",
    "\n",
    "\n",
    "def task_complete(task_descriptions, task_list):\n",
    "    task_num = input(\"Which task would you like to mark as complete? (1-{})\".format(len(task_descriptions)))\n",
    "\n",
    "    while task_num not in range (1, len(task_descriptions)):\n",
    "        if task_num.isdigit():\n",
    "            task_num = int(task_num)\n",
    "\n",
    "            if task_num in range (1, len(task_descriptions)):\n",
    "                continue\n",
    "            else:\n",
    "                print(\"The number you entered is invalid out of range.\")\n",
    "        else:\n",
    "            print(\"Invalid response. Please enter a number. (1-{})\".format(len(task_descriptions)))\n",
    "\n",
    "        task_num = input(\"Which task would you like to mark as complete? (1-{})\".format(len(task_descriptions)))\n",
    "\n",
    "    task_descriptions[task_num- 1] = task_descriptions[task_num - 1] + \" *COMPLETE*\"\n",
    "    task_list[task_num - 1] = task_list[task_num - 1] + \" *COMPLETE*\"\n",
    "\n",
    "    return(task_descriptions, task_list)\n",
    "\n",
    "\n",
    "def task_remove(task_numbers, task_descriptions, task_list):\n",
    "    task_index = input(\"Which task would you like to remove? (1-{})\".format(len(task_descriptions)))\n",
    "\n",
    "    while task_index not in range (1, len(task_descriptions)):\n",
    "        if task_index.isdigit():\n",
    "            task_index = int(task_index)\n",
    "\n",
    "            if task_index in range (1, len(task_descriptions)):\n",
    "                continue\n",
    "            else:\n",
    "                print(\"The number you entered is invalid out of range.\")\n",
    "        else:\n",
    "            print(\"Invalid response. Please enter a number. (1-{})\".format(len(task_descriptions)))\n",
    "\n",
    "        task_index = input(\"Which task would you like to mark as complete? (1-{})\".format(len(task_descriptions)))\n",
    "\n",
    "    task_numbers.pop()\n",
    "    task_descriptions.pop(task_index - 1)\n",
    "    task_list.pop()\n",
    "\n",
    "    for x in range(0, len(task_numbers)):\n",
    "        task_list[task_index - 1] = str(task_numbers[task_index - 1]) + \") \" + task_descriptions[task_index - 1]\n",
    "\n",
    "    return(task_numbers, task_descriptions, task_list)\n",
    "        \n",
    "        \n",
    "\n"
   ]
  },
  {
   "cell_type": "code",
   "execution_count": 54,
   "id": "0f9b0675-1ff2-4f2e-a958-e3c355ecab00",
   "metadata": {},
   "outputs": [
    {
     "name": "stdin",
     "output_type": "stream",
     "text": [
      "Hello! Would you like to create a To-Do list? (Y/N) Y\n"
     ]
    },
    {
     "name": "stdout",
     "output_type": "stream",
     "text": [
      "----------------------------\n",
      "1. Add a task\n",
      "2. View tasks\n",
      "3. Mark a task as complete\n",
      "4. Remove a task\n",
      "5. Exit\n",
      "----------------------------\n"
     ]
    },
    {
     "name": "stdin",
     "output_type": "stream",
     "text": [
      "What would you like to do? (1-5) 1\n",
      "What is your task? Cook\n",
      "What would you like to do? (1-5) 1\n",
      "What is your task? Clean\n",
      "What would you like to do? (1-5) 1\n",
      "What is your task? Water plants\n",
      "What would you like to do? (1-5) 2\n"
     ]
    },
    {
     "name": "stdout",
     "output_type": "stream",
     "text": [
      "==================\n",
      "    TO-DO LIST    \n",
      "==================\n",
      "1) Cook\n",
      "2) Clean\n",
      "3) Water plants\n",
      "\n",
      "\n"
     ]
    },
    {
     "name": "stdin",
     "output_type": "stream",
     "text": [
      "What would you like to do? (1-5) 3\n",
      "Which task would you like to mark as complete? (1-3) no\n"
     ]
    },
    {
     "name": "stdout",
     "output_type": "stream",
     "text": [
      "Invalid response. Please enter a number. (1-3)\n"
     ]
    },
    {
     "name": "stdin",
     "output_type": "stream",
     "text": [
      "Which task would you like to mark as complete? (1-3) 200\n"
     ]
    },
    {
     "name": "stdout",
     "output_type": "stream",
     "text": [
      "The number you entered is invalid out of range.\n"
     ]
    },
    {
     "name": "stdin",
     "output_type": "stream",
     "text": [
      "Which task would you like to mark as complete? (1-3) 2\n",
      "What would you like to do? (1-5) 2\n"
     ]
    },
    {
     "name": "stdout",
     "output_type": "stream",
     "text": [
      "==================\n",
      "    TO-DO LIST    \n",
      "==================\n",
      "1) Cook\n",
      "2) Clean *COMPLETE*\n",
      "3) Water plants\n",
      "\n",
      "\n"
     ]
    },
    {
     "name": "stdin",
     "output_type": "stream",
     "text": [
      "What would you like to do? (1-5) 4\n",
      "Which task would you like to remove? (1-3) none\n"
     ]
    },
    {
     "name": "stdout",
     "output_type": "stream",
     "text": [
      "Invalid response. Please enter a number. (1-3)\n"
     ]
    },
    {
     "name": "stdin",
     "output_type": "stream",
     "text": [
      "Which task would you like to mark as complete? (1-3) 2\n",
      "What would you like to do? (1-5) 2\n"
     ]
    },
    {
     "name": "stdout",
     "output_type": "stream",
     "text": [
      "==================\n",
      "    TO-DO LIST    \n",
      "==================\n",
      "1) Cook\n",
      "2) Water plants\n",
      "\n",
      "\n"
     ]
    },
    {
     "name": "stdin",
     "output_type": "stream",
     "text": [
      "What would you like to do? (1-5) 5\n"
     ]
    }
   ],
   "source": [
    "#Main\n",
    "ans = \"Invalid\"\n",
    "choice = \"Invalid\"\n",
    "task_numbers = []\n",
    "task_descriptions = []\n",
    "task_list = []\n",
    "choices_list = [\"1. Add a task\", \"2. View tasks\", \"3. Mark a task as complete\", \"4. Remove a task\", \"5. Exit\"]\n",
    "\n",
    "ans = input(\"Hello! Would you like to create a To-Do list? (Y/N)\")\n",
    "\n",
    "while ans == \"N\" or ans not in [\"Y\",\"N\"]:\n",
    "    if ans == \"N\":\n",
    "        choice == 5\n",
    "        continue\n",
    "    else:\n",
    "        print(\"Invalid response. Please enter Y or N.\")\n",
    "\n",
    "    ans = input(\"Would you like to create a To-Do list? (Y/N)\")\n",
    "\n",
    "print_bar()\n",
    "for item in choices_list:\n",
    "    print(item)\n",
    "print_bar()\n",
    "\n",
    "while choice != 5:\n",
    "    choice = choice_validation(input(\"What would you like to do? (1-5)\"), choices_list)\n",
    "\n",
    "    if choice == 1:\n",
    "        task_numbers, task_descriptions, task_list = task_add(task_numbers, task_descriptions, task_list)\n",
    "    elif choice == 2:\n",
    "        print_list(task_list)\n",
    "    elif choice == 3:\n",
    "        if len(task_list) > 0:\n",
    "            task_descriptions, task_list = task_complete(task_descriptions, task_list)\n",
    "        else:\n",
    "            print(\"You do not have any tasks on your To-Do list.\")\n",
    "    elif choice == 4:\n",
    "        if len(task_list) > 0:\n",
    "            task_numbers, task_descripts, task_list = task_remove(task_numbers, task_descriptions, task_list)\n",
    "        else:\n",
    "            print(\"You do not have any tasks on your To-Do list.\")    \n",
    "    else:\n",
    "        pass\n",
    "    \n",
    "    "
   ]
  },
  {
   "cell_type": "code",
   "execution_count": null,
   "id": "e34b1475-c1eb-4bd4-a412-1d82fe0f6481",
   "metadata": {},
   "outputs": [],
   "source": []
  }
 ],
 "metadata": {
  "kernelspec": {
   "display_name": "Python 3 (ipykernel)",
   "language": "python",
   "name": "python3"
  },
  "language_info": {
   "codemirror_mode": {
    "name": "ipython",
    "version": 3
   },
   "file_extension": ".py",
   "mimetype": "text/x-python",
   "name": "python",
   "nbconvert_exporter": "python",
   "pygments_lexer": "ipython3",
   "version": "3.11.7"
  }
 },
 "nbformat": 4,
 "nbformat_minor": 5
}
