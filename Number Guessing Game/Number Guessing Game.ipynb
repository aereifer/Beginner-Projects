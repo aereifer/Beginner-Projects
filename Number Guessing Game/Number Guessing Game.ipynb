{
 "cells": [
  {
   "cell_type": "code",
   "execution_count": 19,
   "id": "88be0aa3-c0b7-4f2d-baca-20be4572b011",
   "metadata": {},
   "outputs": [],
   "source": [
    "#Number Guessing Game\n",
    "#     The computer selects a random number within a specified range\n",
    "#     The user inputs their guess\n",
    "#     After each guess, the program provides feedback if the guess was too high, too low, or correct\n",
    "#     Count how many guesses the user has made\n",
    "#     After the game ends, allow the user to play again if they want to"
   ]
  },
  {
   "cell_type": "code",
   "execution_count": 20,
   "id": "ae24360a-e96c-4e14-83a1-45a9d29af09c",
   "metadata": {},
   "outputs": [],
   "source": [
    "#Methods\n",
    "def ans_validation(ans):\n",
    "    while ans not in [\"Y\", \"N\"]:\n",
    "        print(\"Invalid response. Please enter either Y or N.\")\n",
    "\n",
    "        ans = input(\"Would you like to play? (Y/N)\")\n",
    "        \n",
    "    return ans\n",
    "\n",
    "\n",
    "def num_validation(num):\n",
    "    while not num.lstrip(\"-\").isdigit():\n",
    "        num = input(\"Invalid input. Please enter an integer.\")\n",
    "    \n",
    "    return int(num)\n",
    "\n",
    "\n",
    "def top_validation(bottom, top):\n",
    "    top = num_validation(top)\n",
    "\n",
    "    while not bottom < top:\n",
    "        top = num_validation(input(\"Invalid input. The top of the range must be greater than {}. Please enter another integer.\".format(bottom)))\n",
    "\n",
    "    return top\n",
    "\n",
    "\n",
    "def guess_validation(guess, bottom, top):\n",
    "    guess = num_validation(guess)\n",
    "\n",
    "    while not (bottom <= guess <= top):\n",
    "        guess = num_validation(input(\"The value entered was not in the range of {} - {}. Please enter another integer.\".format(bottom, top)))\n",
    "\n",
    "    return guess"
   ]
  },
  {
   "cell_type": "code",
   "execution_count": 22,
   "id": "548405dd-adc3-472d-8979-350b1d2b954f",
   "metadata": {},
   "outputs": [
    {
     "name": "stdout",
     "output_type": "stream",
     "text": [
      "Welcome to the Number Guessing Game!\n",
      "The goal is to guess the randomly generated number in as few guesses as possible\n",
      "\n",
      "\n"
     ]
    },
    {
     "name": "stdin",
     "output_type": "stream",
     "text": [
      "Would you like to play? (Y/N) Y\n"
     ]
    },
    {
     "name": "stdout",
     "output_type": "stream",
     "text": [
      "A random number will now be generated from a range of your choosing.\n"
     ]
    },
    {
     "name": "stdin",
     "output_type": "stream",
     "text": [
      "What would you like the bottom of the range to be? Enter any integer. 0\n",
      "What would you like the top of the range to be? Enter any integer greater than 0. 100\n",
      "The random number has been generated. What is your guess? (0 - 100) -1\n",
      "The value entered was not in the range of 0 - 100. Please enter another integer. 10\n",
      "Your guess of 10 is too low. Enter another integer. 88\n",
      "Your guess of 88 is too high. Enter another integer. 43\n",
      "Your guess of 43 is too high. Enter another integer. 30\n",
      "Your guess of 30 is too low. Enter another integer. 37\n",
      "Your guess of 37 is too low. Enter another integer. 40\n",
      "Your guess of 40 is too low. Enter another integer. 42\n"
     ]
    },
    {
     "name": "stdout",
     "output_type": "stream",
     "text": [
      "You are correct! The random number is 42. You made 7 guesses.\n"
     ]
    },
    {
     "name": "stdin",
     "output_type": "stream",
     "text": [
      "Would you like to play again? (Y/N) N\n"
     ]
    }
   ],
   "source": [
    "import random\n",
    "\n",
    "ans_play = \"Invalid\"\n",
    "random_num = \"Invalid\"\n",
    "bottom_range = \"Invalid\"\n",
    "top_range = \"Invalid\"\n",
    "user_guess = \"Invalid\"\n",
    "counter = 1\n",
    "\n",
    "print(\"Welcome to the Number Guessing Game!\")\n",
    "print(\"The goal is to guess the randomly generated number in as few guesses as possible\")\n",
    "print(\"\\n\")\n",
    "\n",
    "ans_play = ans_validation(input(\"Would you like to play? (Y/N)\"))\n",
    "\n",
    "while ans_play == \"Y\":\n",
    "    print(\"A random number will now be generated from a range of your choosing.\")\n",
    "\n",
    "    bottom_range = num_validation(input(\"What would you like the bottom of the range to be? Enter any integer.\"))\n",
    "    top_range = top_validation(bottom_range, input(\"What would you like the top of the range to be? Enter any integer greater than {}.\".format(bottom_range)))\n",
    "\n",
    "    random_num = random.randint(bottom_range, top_range)\n",
    "\n",
    "    user_guess = guess_validation(input(\"The random number has been generated. What is your guess? ({} - {})\".format(bottom_range, top_range)), bottom_range, top_range)\n",
    "\n",
    "    while user_guess != random_num:\n",
    "        if user_guess > random_num:\n",
    "            user_guess = guess_validation(input(\"Your guess of {} is too high. Enter another integer.\".format(user_guess)), bottom_range, top_range)\n",
    "        else:\n",
    "            user_guess = guess_validation(input(\"Your guess of {} is too low. Enter another integer.\".format(user_guess)), bottom_range, top_range)\n",
    "            \n",
    "        counter+=1\n",
    "\n",
    "    print(\"You are correct! The random number is {}. You made {} guesses.\".format(random_num, counter))\n",
    "\n",
    "    ans_play = ans_validation(input(\"Would you like to play again? (Y/N)\"))\n",
    "    "
   ]
  },
  {
   "cell_type": "code",
   "execution_count": null,
   "id": "807a7718-f4c3-4216-bf85-d89c299b3a7e",
   "metadata": {},
   "outputs": [],
   "source": []
  }
 ],
 "metadata": {
  "kernelspec": {
   "display_name": "Python 3 (ipykernel)",
   "language": "python",
   "name": "python3"
  },
  "language_info": {
   "codemirror_mode": {
    "name": "ipython",
    "version": 3
   },
   "file_extension": ".py",
   "mimetype": "text/x-python",
   "name": "python",
   "nbconvert_exporter": "python",
   "pygments_lexer": "ipython3",
   "version": "3.11.7"
  }
 },
 "nbformat": 4,
 "nbformat_minor": 5
}
