{
 "cells": [
  {
   "cell_type": "code",
   "execution_count": 3,
   "id": "2398d820-d80f-4fd1-a83f-ba256c96292f",
   "metadata": {},
   "outputs": [],
   "source": [
    "#METHODS\n",
    "def blank_board():\n",
    "    print(\"   |   |   \")\n",
    "    print(\"   |   |   \")\n",
    "    print(\"   |   |   \")\n",
    "    print(\"-----------\")\n",
    "    print(\"   |   |   \")\n",
    "    print(\"   |   |   \")\n",
    "    print(\"   |   |   \")\n",
    "    print(\"-----------\")\n",
    "    print(\"   |   |   \")\n",
    "    print(\"   |   |   \")\n",
    "    print(\"   |   |   \")\n",
    "\n",
    "\n",
    "def position_validation(position, turn, position_dict):\n",
    "    while position not in range(1,10) or not check_position_free(position,position_dict):\n",
    "        if position.isdigit():      \n",
    "            position = int(position)\n",
    "            if position in range(1,10) and check_position_free(position,position_dict):\n",
    "                continue\n",
    "            elif position not in range(1,10):\n",
    "                print(\"Your value is outside of the required range.\")\n",
    "            else:\n",
    "                print(\"That position has already been taken\")\n",
    "        else:\n",
    "            print(\"Invalid. Not a number.\")\n",
    "\n",
    "        position = input(\"Player {}: Choose your position (1-9)\".format(turn%2 + 1))\n",
    "    return position\n",
    "\n",
    "\n",
    "def check_position_free(position, position_dict):\n",
    "    return (position_dict[position] == ' ')\n",
    "         \n",
    "\n",
    "def place_position(turn, p1_letter, p2_letter):\n",
    "    if turn%2 == 0:\n",
    "        return p1_letter\n",
    "    else:\n",
    "        return p2_letter\n",
    "\n",
    "\n",
    "def current_board(position_dict):\n",
    "    print(\"   |   |   \")\n",
    "    print(\" {} | {} | {} \".format(position_dict[7], position_dict[8], position_dict[9]))\n",
    "    print(\"   |   |   \")\n",
    "    print(\"-----------\")\n",
    "    print(\"   |   |   \")\n",
    "    print(\" {} | {} | {} \".format(position_dict[4], position_dict[5], position_dict[6]))\n",
    "    print(\"   |   |   \")\n",
    "    print(\"-----------\")\n",
    "    print(\"   |   |   \")\n",
    "    print(\" {} | {} | {} \".format(position_dict[1], position_dict[2], position_dict[3]))\n",
    "    print(\"   |   |   \")\n",
    "\n",
    "    \n",
    "def check_victory(position_dict):\n",
    "    #Check horizontal victories\n",
    "    if position_dict[1] == position_dict[2] == position_dict[3] and position_dict[1] != ' ':\n",
    "        return True\n",
    "    elif position_dict[4] == position_dict[5] == position_dict[6] and position_dict[4] != ' ':\n",
    "        return True\n",
    "    elif position_dict[7] == position_dict[8] == position_dict[9] and position_dict[7] != ' ':\n",
    "        return True\n",
    "    #Check vertical victories\n",
    "    elif position_dict[7] == position_dict[4] == position_dict[1] and position_dict[7] != ' ':\n",
    "        return True\n",
    "    elif position_dict[8] == position_dict[5] == position_dict[2] and position_dict[8] != ' ':\n",
    "        return True\n",
    "    elif position_dict[9] == position_dict[6] == position_dict[3] and position_dict[9] != ' ':\n",
    "        return True\n",
    "    #Check diagonals\n",
    "    elif position_dict[7] == position_dict[5] == position_dict[3] and position_dict[7] != ' ':\n",
    "        return True\n",
    "    elif position_dict[9] == position_dict[5] == position_dict[1] and position_dict[9] != ' ':\n",
    "        return True\n",
    "    else:\n",
    "        return False\n",
    "\n",
    "\n",
    "def announce_winner(position_dict, p1_letter):\n",
    "    if position_dict[1] == position_dict[2] == position_dict[3] and position_dict[1] != ' ':\n",
    "        if position_dict[1] == p1_letter:\n",
    "            print(\"Victory! Congratulations Player 1\")\n",
    "        else:\n",
    "            print(\"Victory! Congratulations Player 2\")\n",
    "    elif position_dict[4] == position_dict[5] == position_dict[6] and position_dict[4] != ' ':\n",
    "        if position_dict[4] == p1_letter:\n",
    "            print(\"Victory! Congratulations Player 1\")\n",
    "        else:\n",
    "            print(\"Victory! Congratulations Player 2\")\n",
    "    elif position_dict[7] == position_dict[8] == position_dict[9] and position_dict[7] != ' ':\n",
    "        if position_dict[7] == p1_letter:\n",
    "            print(\"Victory! Congratulations Player 1\")\n",
    "        else:\n",
    "            print(\"Victory! Congratulations Player 2\")\n",
    "    elif position_dict[7] == position_dict[4] == position_dict[1] and position_dict[7] != ' ':\n",
    "        if position_dict[7] == p1_letter:\n",
    "            print(\"Victory! Congratulations Player 1\")\n",
    "        else:\n",
    "            print(\"Victory! Congratulations Player 2\")\n",
    "    elif position_dict[8] == position_dict[5] == position_dict[2] and position_dict[8] != ' ':\n",
    "        if position_dict[8] == p1_letter:\n",
    "            print(\"Victory! Congratulations Player 1\")\n",
    "        else:\n",
    "            print(\"Victory! Congratulations Player 2\")\n",
    "    elif position_dict[9] == position_dict[6] == position_dict[3] and position_dict[9] != ' ':\n",
    "        if position_dict[9] == p1_letter:\n",
    "            print(\"Victory! Congratulations Player 1\")\n",
    "        else:\n",
    "            print(\"Victory! Congratulations Player 2\")\n",
    "    elif position_dict[7] == position_dict[5] == position_dict[3] and position_dict[7] != ' ':\n",
    "        if position_dict[7] == p1_letter:\n",
    "            print(\"Victory! Congratulations Player 1\")\n",
    "        else:\n",
    "            print(\"Victory! Congratulations Player 2\")\n",
    "    elif position_dict[9] == position_dict[5] == position_dict[1] and position_dict[9] != ' ':\n",
    "        if position_dict[9] == p1_letter:\n",
    "            print(\"Victory! Congratulations Player 1\")\n",
    "        else:\n",
    "            print(\"Victory! Congratulations Player 2\")\n",
    "    else:\n",
    "        pass\n",
    "\n"
   ]
  },
  {
   "cell_type": "code",
   "execution_count": null,
   "id": "4380d778-7477-48ca-898e-fb707a06bd82",
   "metadata": {},
   "outputs": [
    {
     "name": "stdout",
     "output_type": "stream",
     "text": [
      "Welcome to Tic-Tac-Toe!\n"
     ]
    },
    {
     "name": "stdin",
     "output_type": "stream",
     "text": [
      "Are you ready to start the game? (Y, N) Y\n",
      "Player 1: Would you like to be X or O? X\n"
     ]
    },
    {
     "name": "stdout",
     "output_type": "stream",
     "text": [
      "   |   |   \n",
      "   |   |   \n",
      "   |   |   \n",
      "-----------\n",
      "   |   |   \n",
      "   |   |   \n",
      "   |   |   \n",
      "-----------\n",
      "   |   |   \n",
      "   |   |   \n",
      "   |   |   \n",
      "0\n"
     ]
    },
    {
     "name": "stdin",
     "output_type": "stream",
     "text": [
      "Player 1: Choose your position (1-9) 3\n"
     ]
    },
    {
     "name": "stdout",
     "output_type": "stream",
     "text": [
      "   |   |   \n",
      "   |   |   \n",
      "   |   |   \n",
      "-----------\n",
      "   |   |   \n",
      "   |   |   \n",
      "   |   |   \n",
      "-----------\n",
      "   |   |   \n",
      "   |   | X \n",
      "   |   |   \n",
      "1\n"
     ]
    },
    {
     "name": "stdin",
     "output_type": "stream",
     "text": [
      "Player 2: Choose your position (1-9) 1\n"
     ]
    },
    {
     "name": "stdout",
     "output_type": "stream",
     "text": [
      "   |   |   \n",
      "   |   |   \n",
      "   |   |   \n",
      "-----------\n",
      "   |   |   \n",
      "   |   |   \n",
      "   |   |   \n",
      "-----------\n",
      "   |   |   \n",
      " O |   | X \n",
      "   |   |   \n",
      "2\n"
     ]
    },
    {
     "name": "stdin",
     "output_type": "stream",
     "text": [
      "Player 1: Choose your position (1-9) 2\n"
     ]
    },
    {
     "name": "stdout",
     "output_type": "stream",
     "text": [
      "   |   |   \n",
      "   |   |   \n",
      "   |   |   \n",
      "-----------\n",
      "   |   |   \n",
      "   |   |   \n",
      "   |   |   \n",
      "-----------\n",
      "   |   |   \n",
      " O | X | X \n",
      "   |   |   \n",
      "3\n"
     ]
    },
    {
     "name": "stdin",
     "output_type": "stream",
     "text": [
      "Player 2: Choose your position (1-9) 5\n"
     ]
    },
    {
     "name": "stdout",
     "output_type": "stream",
     "text": [
      "   |   |   \n",
      "   |   |   \n",
      "   |   |   \n",
      "-----------\n",
      "   |   |   \n",
      "   | O |   \n",
      "   |   |   \n",
      "-----------\n",
      "   |   |   \n",
      " O | X | X \n",
      "   |   |   \n",
      "4\n"
     ]
    },
    {
     "name": "stdin",
     "output_type": "stream",
     "text": [
      "Player 1: Choose your position (1-9) 4\n"
     ]
    },
    {
     "name": "stdout",
     "output_type": "stream",
     "text": [
      "   |   |   \n",
      "   |   |   \n",
      "   |   |   \n",
      "-----------\n",
      "   |   |   \n",
      " X | O |   \n",
      "   |   |   \n",
      "-----------\n",
      "   |   |   \n",
      " O | X | X \n",
      "   |   |   \n",
      "5\n"
     ]
    },
    {
     "name": "stdin",
     "output_type": "stream",
     "text": [
      "Player 2: Choose your position (1-9) 6\n"
     ]
    },
    {
     "name": "stdout",
     "output_type": "stream",
     "text": [
      "   |   |   \n",
      "   |   |   \n",
      "   |   |   \n",
      "-----------\n",
      "   |   |   \n",
      " X | O | O \n",
      "   |   |   \n",
      "-----------\n",
      "   |   |   \n",
      " O | X | X \n",
      "   |   |   \n",
      "6\n"
     ]
    }
   ],
   "source": [
    "print(\"Welcome to Tic-Tac-Toe!\")\n",
    "\n",
    "p1_letter = \"Invalid\"\n",
    "p2_letter = \"Invalid\"\n",
    "game_ready = \"Invalid\"\n",
    "position = \"Invalid\"\n",
    "position_dict = {1:' ', 2:' ', 3:' ', 4:' ', 5:' ', 6:' ', 7:' ', 8:' ', 9:' '}\n",
    "turn = 0\n",
    "\n",
    "while game_ready != 'Y':\n",
    "    game_ready = input(\"Are you ready to start the game? (Y, N)\")\n",
    "\n",
    "    if game_ready == 'Y':\n",
    "        continue\n",
    "    elif game_ready == 'N':\n",
    "        continue\n",
    "    else:\n",
    "        print(\"Invalid response\")\n",
    "\n",
    "while p1_letter not in ['X','O']:\n",
    "    p1_letter = input(\"Player 1: Would you like to be X or O?\")\n",
    "\n",
    "    if p1_letter in ['X','O']:\n",
    "        continue\n",
    "    else:\n",
    "        print(\"Invalid Response\")  \n",
    "\n",
    "if p1_letter == 'X':\n",
    "    p2_letter = 'O'\n",
    "else:\n",
    "    p2_letter = 'X'\n",
    "    \n",
    "blank_board()\n",
    "\n",
    "while not check_victory(position_dict) and turn != 9:\n",
    "    print(turn)\n",
    "    position = position_validation(input(\"Player {}: Choose your position (1-9)\".format(turn%2 + 1)), turn, position_dict)\n",
    "\n",
    "    position_dict[position] = place_position(turn, p1_letter, p2_letter)\n",
    "\n",
    "    current_board(position_dict)\n",
    "\n",
    "    turn+=1\n",
    "\n",
    "if check_victory(position_dict):\n",
    "    announce_winner(position_dict, p1_letter)\n",
    "else:\n",
    "    print(\"Tie game!\")\n"
   ]
  },
  {
   "cell_type": "code",
   "execution_count": null,
   "id": "348c24dc-e169-424b-9506-dd0a35efe492",
   "metadata": {},
   "outputs": [],
   "source": []
  }
 ],
 "metadata": {
  "kernelspec": {
   "display_name": "Python 3 (ipykernel)",
   "language": "python",
   "name": "python3"
  },
  "language_info": {
   "codemirror_mode": {
    "name": "ipython",
    "version": 3
   },
   "file_extension": ".py",
   "mimetype": "text/x-python",
   "name": "python",
   "nbconvert_exporter": "python",
   "pygments_lexer": "ipython3",
   "version": "3.11.7"
  }
 },
 "nbformat": 4,
 "nbformat_minor": 5
}
